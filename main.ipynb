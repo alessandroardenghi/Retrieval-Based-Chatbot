{
 "cells": [
  {
   "cell_type": "code",
   "execution_count": 16,
   "metadata": {},
   "outputs": [],
   "source": [
    "import pandas as pd\n",
    "from Functions.PreprocessingFunctions import lemmatization_and_stemming, TFIDF_discretizer, remove_punctuation, remove_stopwords, tokenize, apply_BOW, apply_cosine_similarity, apply_TFIDF, apply_fasttext_model_multiple\n",
    "from Functions.TestingFunctions import cosine_similarity_score, BOW_exhaustive_search, TFIDF_exhaustive_search, get_track1_predictions, get_track2_predictions, get_track3_predictions\n",
    "from nltk.corpus import stopwords\n",
    "import numpy as np\n",
    "import re\n",
    "from sentence_transformers import SentenceTransformer\n",
    "import tqdm\n",
    "from Functions.PreprocessingFunctions import apply_word2vec_model_multiple\n",
    "from gensim.models import KeyedVectors"
   ]
  },
  {
   "cell_type": "markdown",
   "metadata": {},
   "source": [
    "# Data Description"
   ]
  },
  {
   "cell_type": "code",
   "execution_count": 4,
   "metadata": {},
   "outputs": [],
   "source": [
    "train_df = pd.read_csv('data/train_responses.csv')\n",
    "dev_df = pd.read_csv('data/dev_responses.csv')\n",
    "test_df = pd.read_csv('data/test_prompts.csv')"
   ]
  },
  {
   "cell_type": "code",
   "execution_count": 5,
   "metadata": {},
   "outputs": [
    {
     "name": "stdout",
     "output_type": "stream",
     "text": [
      "Indices of dev rows with NaN values:\n",
      "[945, 4279]\n",
      "Indices of train rows with NaN values:\n",
      "[]\n"
     ]
    }
   ],
   "source": [
    "dev_nan_indices = list(dev_df[dev_df.isna().any(axis=1)].index)\n",
    "train_nan_indices = list(train_df[train_df.isna().any(axis=1)].index)\n",
    "\n",
    "print(\"Indices of dev rows with NaN values:\")\n",
    "print(dev_nan_indices)\n",
    "\n",
    "print(\"Indices of train rows with NaN values:\")\n",
    "print(train_nan_indices)\n"
   ]
  },
  {
   "cell_type": "code",
   "execution_count": 6,
   "metadata": {},
   "outputs": [],
   "source": [
    "train_df = train_df.dropna().reset_index(drop = True)\n",
    "dev_df = dev_df.dropna().reset_index(drop = True)\n",
    "\n",
    "train_and_dev_df = pd.concat([train_df, dev_df], axis=0)\n",
    "train_and_dev_df.reset_index(drop=True, inplace=True)"
   ]
  },
  {
   "cell_type": "code",
   "execution_count": 228,
   "metadata": {},
   "outputs": [
    {
     "data": {
      "text/html": [
       "<div>\n",
       "<style scoped>\n",
       "    .dataframe tbody tr th:only-of-type {\n",
       "        vertical-align: middle;\n",
       "    }\n",
       "\n",
       "    .dataframe tbody tr th {\n",
       "        vertical-align: top;\n",
       "    }\n",
       "\n",
       "    .dataframe thead th {\n",
       "        text-align: right;\n",
       "    }\n",
       "</style>\n",
       "<table border=\"1\" class=\"dataframe\">\n",
       "  <thead>\n",
       "    <tr style=\"text-align: right;\">\n",
       "      <th></th>\n",
       "      <th>conversation_id</th>\n",
       "      <th>user_prompt</th>\n",
       "      <th>model_response</th>\n",
       "    </tr>\n",
       "  </thead>\n",
       "  <tbody>\n",
       "    <tr>\n",
       "      <th>0</th>\n",
       "      <td>a5411f5a5d6d4cf39b688424b941ff91</td>\n",
       "      <td>Whats the derivative of cos(2x)?</td>\n",
       "      <td>The derivative of cos(2x) is -sin(2x). This is...</td>\n",
       "    </tr>\n",
       "    <tr>\n",
       "      <th>1</th>\n",
       "      <td>0f84903b99184bf0a620ac7acfb721a0</td>\n",
       "      <td>can you suggest synonyms for the word diffusion?</td>\n",
       "      <td>Sure, here are some synonyms for the word \"dif...</td>\n",
       "    </tr>\n",
       "    <tr>\n",
       "      <th>2</th>\n",
       "      <td>4c864c0ac5f74f048b0533d39d622d2d</td>\n",
       "      <td>do you know what Pentax camera is good for?</td>\n",
       "      <td>Pentax is a well-known brand of cameras and le...</td>\n",
       "    </tr>\n",
       "    <tr>\n",
       "      <th>3</th>\n",
       "      <td>ad091c8d81254b86b12d051d082333fa</td>\n",
       "      <td>what is FastChat-T5? what's different between ...</td>\n",
       "      <td>FastChat-T5 is a research project developed by...</td>\n",
       "    </tr>\n",
       "    <tr>\n",
       "      <th>4</th>\n",
       "      <td>c83dfb6138f24faa961ce0de988a4f25</td>\n",
       "      <td>do you know difference between uploading exten...</td>\n",
       "      <td>Yes, there are some differences between upload...</td>\n",
       "    </tr>\n",
       "  </tbody>\n",
       "</table>\n",
       "</div>"
      ],
      "text/plain": [
       "                    conversation_id  \\\n",
       "0  a5411f5a5d6d4cf39b688424b941ff91   \n",
       "1  0f84903b99184bf0a620ac7acfb721a0   \n",
       "2  4c864c0ac5f74f048b0533d39d622d2d   \n",
       "3  ad091c8d81254b86b12d051d082333fa   \n",
       "4  c83dfb6138f24faa961ce0de988a4f25   \n",
       "\n",
       "                                         user_prompt  \\\n",
       "0                   Whats the derivative of cos(2x)?   \n",
       "1   can you suggest synonyms for the word diffusion?   \n",
       "2        do you know what Pentax camera is good for?   \n",
       "3  what is FastChat-T5? what's different between ...   \n",
       "4  do you know difference between uploading exten...   \n",
       "\n",
       "                                      model_response  \n",
       "0  The derivative of cos(2x) is -sin(2x). This is...  \n",
       "1  Sure, here are some synonyms for the word \"dif...  \n",
       "2  Pentax is a well-known brand of cameras and le...  \n",
       "3  FastChat-T5 is a research project developed by...  \n",
       "4  Yes, there are some differences between upload...  "
      ]
     },
     "execution_count": 228,
     "metadata": {},
     "output_type": "execute_result"
    }
   ],
   "source": [
    "train_df.head()"
   ]
  },
  {
   "cell_type": "code",
   "execution_count": 229,
   "metadata": {},
   "outputs": [
    {
     "data": {
      "text/html": [
       "<div>\n",
       "<style scoped>\n",
       "    .dataframe tbody tr th:only-of-type {\n",
       "        vertical-align: middle;\n",
       "    }\n",
       "\n",
       "    .dataframe tbody tr th {\n",
       "        vertical-align: top;\n",
       "    }\n",
       "\n",
       "    .dataframe thead th {\n",
       "        text-align: right;\n",
       "    }\n",
       "</style>\n",
       "<table border=\"1\" class=\"dataframe\">\n",
       "  <thead>\n",
       "    <tr style=\"text-align: right;\">\n",
       "      <th></th>\n",
       "      <th>conversation_id</th>\n",
       "      <th>user_prompt</th>\n",
       "      <th>model_response</th>\n",
       "    </tr>\n",
       "  </thead>\n",
       "  <tbody>\n",
       "    <tr>\n",
       "      <th>0</th>\n",
       "      <td>c0617586e4da4f96be269b9042de02cd</td>\n",
       "      <td>let back(arg) = gra. what is back(the)?</td>\n",
       "      <td>I'm sorry, I'm not sure what you mean by \"back...</td>\n",
       "    </tr>\n",
       "    <tr>\n",
       "      <th>1</th>\n",
       "      <td>a60aa04b99834b1d9dcc107526cf499d</td>\n",
       "      <td>puedes resumir un documento pdf?</td>\n",
       "      <td>Sí, puedo resumir el contenido de un documento...</td>\n",
       "    </tr>\n",
       "    <tr>\n",
       "      <th>2</th>\n",
       "      <td>634847d24efe474fa649197c605ed089</td>\n",
       "      <td>Who s the best team in League of Legends ?</td>\n",
       "      <td>It's difficult to say who the best team in Lea...</td>\n",
       "    </tr>\n",
       "    <tr>\n",
       "      <th>3</th>\n",
       "      <td>98d39fd5bd2a4b8aa11f434ca64b02de</td>\n",
       "      <td>hello. do you think the nasdaq index will be u...</td>\n",
       "      <td>Hello! As an AI language model, I do not have ...</td>\n",
       "    </tr>\n",
       "    <tr>\n",
       "      <th>4</th>\n",
       "      <td>e5f979964a1245e8bc742b693d9bc59b</td>\n",
       "      <td>russia-ukraine crisis: why russia attcks in 2022?</td>\n",
       "      <td>The Russia-Ukraine crisis is a complex and ong...</td>\n",
       "    </tr>\n",
       "  </tbody>\n",
       "</table>\n",
       "</div>"
      ],
      "text/plain": [
       "                    conversation_id  \\\n",
       "0  c0617586e4da4f96be269b9042de02cd   \n",
       "1  a60aa04b99834b1d9dcc107526cf499d   \n",
       "2  634847d24efe474fa649197c605ed089   \n",
       "3  98d39fd5bd2a4b8aa11f434ca64b02de   \n",
       "4  e5f979964a1245e8bc742b693d9bc59b   \n",
       "\n",
       "                                         user_prompt  \\\n",
       "0            let back(arg) = gra. what is back(the)?   \n",
       "1                   puedes resumir un documento pdf?   \n",
       "2         Who s the best team in League of Legends ?   \n",
       "3  hello. do you think the nasdaq index will be u...   \n",
       "4  russia-ukraine crisis: why russia attcks in 2022?   \n",
       "\n",
       "                                      model_response  \n",
       "0  I'm sorry, I'm not sure what you mean by \"back...  \n",
       "1  Sí, puedo resumir el contenido de un documento...  \n",
       "2  It's difficult to say who the best team in Lea...  \n",
       "3  Hello! As an AI language model, I do not have ...  \n",
       "4  The Russia-Ukraine crisis is a complex and ong...  "
      ]
     },
     "execution_count": 229,
     "metadata": {},
     "output_type": "execute_result"
    }
   ],
   "source": [
    "dev_df.head()"
   ]
  },
  {
   "cell_type": "code",
   "execution_count": 230,
   "metadata": {},
   "outputs": [
    {
     "data": {
      "text/html": [
       "<div>\n",
       "<style scoped>\n",
       "    .dataframe tbody tr th:only-of-type {\n",
       "        vertical-align: middle;\n",
       "    }\n",
       "\n",
       "    .dataframe tbody tr th {\n",
       "        vertical-align: top;\n",
       "    }\n",
       "\n",
       "    .dataframe thead th {\n",
       "        text-align: right;\n",
       "    }\n",
       "</style>\n",
       "<table border=\"1\" class=\"dataframe\">\n",
       "  <thead>\n",
       "    <tr style=\"text-align: right;\">\n",
       "      <th></th>\n",
       "      <th>conversation_id</th>\n",
       "      <th>user_prompt</th>\n",
       "    </tr>\n",
       "  </thead>\n",
       "  <tbody>\n",
       "    <tr>\n",
       "      <th>0</th>\n",
       "      <td>0cf125095fa74e129f9b7b6054d2993e</td>\n",
       "      <td>Regarding Stable Diffusion models, should I us...</td>\n",
       "    </tr>\n",
       "    <tr>\n",
       "      <th>1</th>\n",
       "      <td>e6296e2a7a554a3db3152704d065498e</td>\n",
       "      <td>I am thinking of a childrens cartoon where the...</td>\n",
       "    </tr>\n",
       "    <tr>\n",
       "      <th>2</th>\n",
       "      <td>ee22ccf57c064f5f955f1fd2f9ed5e90</td>\n",
       "      <td>what's difference between ioremap and devm_ior...</td>\n",
       "    </tr>\n",
       "    <tr>\n",
       "      <th>3</th>\n",
       "      <td>f5ef6be6d11746e39ec404496c307ab8</td>\n",
       "      <td>Who is a Multiplan direct competitor in US?</td>\n",
       "    </tr>\n",
       "    <tr>\n",
       "      <th>4</th>\n",
       "      <td>1fcea667861046d1834b17e7851dcca4</td>\n",
       "      <td>Can you give me ideas for a dnd oneshot?</td>\n",
       "    </tr>\n",
       "  </tbody>\n",
       "</table>\n",
       "</div>"
      ],
      "text/plain": [
       "                    conversation_id  \\\n",
       "0  0cf125095fa74e129f9b7b6054d2993e   \n",
       "1  e6296e2a7a554a3db3152704d065498e   \n",
       "2  ee22ccf57c064f5f955f1fd2f9ed5e90   \n",
       "3  f5ef6be6d11746e39ec404496c307ab8   \n",
       "4  1fcea667861046d1834b17e7851dcca4   \n",
       "\n",
       "                                         user_prompt  \n",
       "0  Regarding Stable Diffusion models, should I us...  \n",
       "1  I am thinking of a childrens cartoon where the...  \n",
       "2  what's difference between ioremap and devm_ior...  \n",
       "3        Who is a Multiplan direct competitor in US?  \n",
       "4           Can you give me ideas for a dnd oneshot?  "
      ]
     },
     "execution_count": 230,
     "metadata": {},
     "output_type": "execute_result"
    }
   ],
   "source": [
    "test_df.head()"
   ]
  },
  {
   "cell_type": "markdown",
   "metadata": {},
   "source": [
    "As we can notice, training and dev matrices are composed of 3 columns:\n",
    "- The first column contains a unique **conversation_id** written in hexadecimal form.\n",
    "- The second column contains the questions that users asked in the past (**user_prompt**)\n",
    "- The third column contains the desired response of the model\n",
    "<br>\n",
    "The objective of this project is to create a chatbot that, when prompted with a question from the dev dataframe, finds the question in the training set of highest semantic similarity, and returns its response. The quality of the response will be evaluated using the BLEU score (implemented in the **TestingFunctions.py** file)"
   ]
  },
  {
   "cell_type": "markdown",
   "metadata": {},
   "source": [
    "# Data Preprocessing"
   ]
  },
  {
   "cell_type": "markdown",
   "metadata": {},
   "source": [
    "As a first preprocessing step, I put all words in lowercase and tokenize them in such a way that also parentheses, equal signs and other symbols are separated from the words, in order to increase the quality of the lemmatization and stemming performed later."
   ]
  },
  {
   "cell_type": "code",
   "execution_count": 7,
   "metadata": {},
   "outputs": [],
   "source": [
    "tokenized_train = tokenize(train_df['user_prompt'].values)\n",
    "tokenized_dev = tokenize(dev_df['user_prompt'].values)\n",
    "tokenized_test = tokenize(test_df['user_prompt'].values)\n",
    "tokenized_train_and_dev = tokenize(train_and_dev_df['user_prompt'].values)"
   ]
  },
  {
   "cell_type": "code",
   "execution_count": 4,
   "metadata": {},
   "outputs": [
    {
     "name": "stdout",
     "output_type": "stream",
     "text": [
      "['whats', 'the', 'derivative', 'of', 'cos', '(', '2x', ')', '?']\n",
      "['can', 'you', 'suggest', 'synonyms', 'for', 'the', 'word', 'diffusion', '?']\n",
      "['do', 'you', 'know', 'what', 'pentax', 'camera', 'is', 'good', 'for', '?']\n",
      "['what', 'is', 'fastchat', '-', 't5', '?', 'what', \"'\", 's', 'different', 'between', 'fastchat', '-', 't5', 'and', 'vicuna', '-', '13b', '?']\n",
      "['do', 'you', 'know', 'difference', 'between', 'uploading', 'extension', 'to', 'chrome', 'store', '&', 'edge', 'store', '?']\n"
     ]
    }
   ],
   "source": [
    "print(tokenized_train[0])\n",
    "print(tokenized_train[1])\n",
    "print(tokenized_train[2])\n",
    "print(tokenized_train[3])\n",
    "print(tokenized_train[4])"
   ]
  },
  {
   "cell_type": "code",
   "execution_count": 5,
   "metadata": {},
   "outputs": [
    {
     "name": "stdout",
     "output_type": "stream",
     "text": [
      "['let', 'back', '(', 'arg', ')', '=', 'gra', '.', 'what', 'is', 'back', '(', 'the', ')', '?']\n",
      "['puedes', 'resumir', 'un', 'documento', 'pdf', '?']\n",
      "['who', 's', 'the', 'best', 'team', 'in', 'league', 'of', 'legends', '?']\n",
      "['hello', '.', 'do', 'you', 'think', 'the', 'nasdaq', 'index', 'will', 'be', 'up', 'or', 'down', 'today', '?']\n",
      "['russia', '-', 'ukraine', 'crisis', ':', 'why', 'russia', 'attcks', 'in', '2022', '?']\n"
     ]
    }
   ],
   "source": [
    "print(tokenized_dev[0])\n",
    "print(tokenized_dev[1])\n",
    "print(tokenized_dev[2])\n",
    "print(tokenized_dev[3])\n",
    "print(tokenized_dev[4])"
   ]
  },
  {
   "cell_type": "code",
   "execution_count": 6,
   "metadata": {},
   "outputs": [
    {
     "name": "stdout",
     "output_type": "stream",
     "text": [
      "['regarding', 'stable', 'diffusion', 'models', ',', 'should', 'i', 'use', 'fp16', 'or', 'fp32', '?']\n",
      "['i', 'am', 'thinking', 'of', 'a', 'childrens', 'cartoon', 'where', 'the', 'main', 'characters', 'initials', 'are', 'as', 'follows', ':', 'ts', 'rd', 'pp', 'aj', 'r', 'f', 'what', 'is', 'the', 'show', '?']\n",
      "['what', \"'\", 's', 'difference', 'between', 'ioremap', 'and', 'devm_ioremap', '?']\n",
      "['who', 'is', 'a', 'multiplan', 'direct', 'competitor', 'in', 'us', '?']\n",
      "['can', 'you', 'give', 'me', 'ideas', 'for', 'a', 'dnd', 'oneshot', '?']\n"
     ]
    }
   ],
   "source": [
    "print(tokenized_test[0])\n",
    "print(tokenized_test[1])\n",
    "print(tokenized_test[2])\n",
    "print(tokenized_test[3])\n",
    "print(tokenized_test[4])"
   ]
  },
  {
   "cell_type": "markdown",
   "metadata": {},
   "source": [
    "In the next cell, I explore different preprocessing methods, including:\n",
    "- punctuation removal\n",
    "- punctuation and stopwords removal\n",
    "- lemmatization\n",
    "- stemming\n",
    "- lemmatization and punctuation removal\n",
    "- stemming and punctuation removal\n",
    "- lemmatization and punctuation and stopwords removal\n",
    "- stemming and punctuation and stopwords removal"
   ]
  },
  {
   "cell_type": "code",
   "execution_count": 237,
   "metadata": {},
   "outputs": [],
   "source": [
    "stop_words = set(stopwords.words('english'))\n",
    "\n",
    "# Punctuation Removal\n",
    "np_basic_train = remove_punctuation(tokenized_train)\n",
    "np_basic_dev = remove_punctuation(tokenized_dev)\n",
    "cleaned_basic_train = remove_stopwords(np_basic_train, stop_words)\n",
    "cleaned_basic_dev = remove_stopwords(np_basic_dev, stop_words)\n",
    "\n",
    "# Data stemmed and lemmatized #\n",
    "lemmatized_train, stemmed_train = lemmatization_and_stemming([' '.join(sentence) for sentence in tokenized_train])\n",
    "lemmatized_dev, stemmed_dev = lemmatization_and_stemming([' '.join(sentence) for sentence in tokenized_dev])\n",
    "\n",
    "# Data stemmed and lemmatized without punctuation #\n",
    "np_lemmatized_train = remove_punctuation(lemmatized_train)\n",
    "np_stemmed_train = remove_punctuation(stemmed_train)\n",
    "np_lemmatized_dev = remove_punctuation(lemmatized_dev)\n",
    "np_stemmed_dev = remove_punctuation(stemmed_dev)\n",
    "\n",
    "# Data stemmed and lemmatized without punctuation and stopwords #\n",
    "\n",
    "cleaned_lemmatized_train = remove_stopwords(np_lemmatized_train, stop_words)\n",
    "cleaned_stemmed_train = remove_stopwords(np_stemmed_train, stop_words)\n",
    "cleaned_lemmatized_dev = remove_stopwords(np_lemmatized_dev, stop_words)\n",
    "cleaned_stemmed_dev = remove_stopwords(np_stemmed_dev, stop_words)"
   ]
  },
  {
   "cell_type": "markdown",
   "metadata": {},
   "source": [
    "### Visualization of the Preprocessing Results"
   ]
  },
  {
   "cell_type": "markdown",
   "metadata": {},
   "source": [
    "In the following cell I collect all the different train/dev pairs in a useful dict for easy access"
   ]
  },
  {
   "cell_type": "code",
   "execution_count": 238,
   "metadata": {},
   "outputs": [],
   "source": [
    "data_list = {'basic': [tokenized_train, tokenized_dev],\n",
    "             'np_basic': [np_basic_train, np_basic_dev],\n",
    "             'sw_basic': [cleaned_basic_train, cleaned_basic_dev],\n",
    "             'lemmatized': [lemmatized_train, lemmatized_dev],\n",
    "             'stemmed': [stemmed_train, stemmed_dev],\n",
    "             'np_lemmatized': [np_lemmatized_train, np_lemmatized_dev],\n",
    "             'np_stemmed': [np_stemmed_train, np_stemmed_dev],\n",
    "             'sw_lemmatized': [cleaned_lemmatized_train, cleaned_lemmatized_dev],\n",
    "             'sw_stemmed': [cleaned_stemmed_train, cleaned_stemmed_dev]\n",
    "}"
   ]
  },
  {
   "cell_type": "code",
   "execution_count": 239,
   "metadata": {},
   "outputs": [
    {
     "name": "stdout",
     "output_type": "stream",
     "text": [
      "basic non tokenized : Whats the derivative of cos(2x)?\n",
      "basic               : whats the derivative of cos ( 2x ) ?\n",
      "np_basic            : whats the derivative of cos 2x\n",
      "sw_basic            : whats derivative cos 2x\n",
      "lemmatized          : what s the derivative of cos ( 2x ) ?\n",
      "stemmed             : what s the deriv of cos ( 2x ) ?\n",
      "np_lemmatized       : what s the derivative of cos 2x\n",
      "np_stemmed          : what s the deriv of cos 2x\n",
      "sw_lemmatized       : derivative cos 2x\n",
      "sw_stemmed          : deriv cos 2x\n"
     ]
    }
   ],
   "source": [
    "print(f'{\"basic non tokenized\":<20}: {train_df[\"user_prompt\"].values[0]}')\n",
    "for key in data_list:\n",
    "    print(f'{key:<20}: {\" \".join(data_list[key][0][0])}')"
   ]
  },
  {
   "cell_type": "markdown",
   "metadata": {},
   "source": [
    "# Discrete Representations"
   ]
  },
  {
   "cell_type": "markdown",
   "metadata": {},
   "source": [
    "## BOW"
   ]
  },
  {
   "cell_type": "markdown",
   "metadata": {},
   "source": [
    "The first discrete representation method I will use is Bag of Words (BOW). "
   ]
  },
  {
   "cell_type": "code",
   "execution_count": 240,
   "metadata": {},
   "outputs": [],
   "source": [
    "BOW_data_list = apply_BOW(data_list)"
   ]
  },
  {
   "cell_type": "code",
   "execution_count": 241,
   "metadata": {},
   "outputs": [
    {
     "name": "stdout",
     "output_type": "stream",
     "text": [
      "Shape of Train in basic          : (14250, 16185)\n",
      "Shape of Train in np_basic       : (14250, 16185)\n",
      "Shape of Train in sw_basic       : (14250, 16164)\n",
      "Shape of Train in lemmatized     : (14250, 13521)\n",
      "Shape of Train in stemmed        : (14250, 12167)\n",
      "Shape of Train in np_lemmatized  : (14250, 13521)\n",
      "Shape of Train in np_stemmed     : (14250, 12167)\n",
      "Shape of Train in sw_lemmatized  : (14250, 13503)\n",
      "Shape of Train in sw_stemmed     : (14250, 12149)\n"
     ]
    }
   ],
   "source": [
    "for key in BOW_data_list:\n",
    "    print(f'Shape of Train in {key:<15}: {BOW_data_list[key][0].shape}')"
   ]
  },
  {
   "cell_type": "markdown",
   "metadata": {},
   "source": [
    "As we can notice, the BOW vectors have many dimensions, but lemmatizing and removing stopwords can somewhat mitigate this issue."
   ]
  },
  {
   "cell_type": "markdown",
   "metadata": {},
   "source": [
    "### TESTING"
   ]
  },
  {
   "cell_type": "code",
   "execution_count": 242,
   "metadata": {},
   "outputs": [],
   "source": [
    "BOW_results = apply_cosine_similarity(BOW_data_list, train_df, dev_df)"
   ]
  },
  {
   "cell_type": "code",
   "execution_count": 243,
   "metadata": {},
   "outputs": [
    {
     "name": "stdout",
     "output_type": "stream",
     "text": [
      "BLEU Score of basic          : 0.0785\n",
      "BLEU Score of np_basic       : 0.0785\n",
      "BLEU Score of stemmed        : 0.0784\n",
      "BLEU Score of np_stemmed     : 0.0784\n",
      "BLEU Score of sw_basic       : 0.0783\n",
      "BLEU Score of sw_stemmed     : 0.0782\n",
      "BLEU Score of lemmatized     : 0.0769\n",
      "BLEU Score of np_lemmatized  : 0.0769\n",
      "BLEU Score of sw_lemmatized  : 0.0766\n"
     ]
    }
   ],
   "source": [
    "for key in dict(sorted(BOW_results.items(), key=lambda x: x[1][1], reverse=True)):\n",
    "    print(f'BLEU Score of {key:<{15}}: {BOW_results[key][1]:.4f}')"
   ]
  },
  {
   "cell_type": "markdown",
   "metadata": {},
   "source": [
    "From what we can see above, the model that performs best with BOW is the one where we do not lemmatize nor stem nor remove stopwords (punctuation is removed by default by CountVectorizer)"
   ]
  },
  {
   "cell_type": "markdown",
   "metadata": {},
   "source": [
    "### EXHAUSTIVE SEARCH"
   ]
  },
  {
   "cell_type": "markdown",
   "metadata": {},
   "source": [
    "In this section, I will try to optimize the parameters of the BOW function on the model that performed best in the previous step, which is the basic model."
   ]
  },
  {
   "cell_type": "code",
   "execution_count": null,
   "metadata": {},
   "outputs": [],
   "source": [
    "n_gram_parameters = [(i, j) for i in range(1, 8) for j in range(i, 8)]\n",
    "binary = [False, True]\n",
    "analyzer = ['char']\n",
    "results_basic = BOW_exhaustive_search(tokenized_train, tokenized_dev, n_gram_parameters, analyzer, binary, train_df, dev_df)"
   ]
  },
  {
   "cell_type": "code",
   "execution_count": 245,
   "metadata": {},
   "outputs": [
    {
     "name": "stdout",
     "output_type": "stream",
     "text": [
      "Optimal n_gram    : (2, 5)\n",
      "Optimal analyzer  : char\n",
      "Optimal binary    : True\n",
      "Optimal score     : 0.08956738592670373\n"
     ]
    }
   ],
   "source": [
    "for key in results_basic:\n",
    "    print(f'Optimal {key:<10}: {results_basic[key]}')"
   ]
  },
  {
   "cell_type": "markdown",
   "metadata": {},
   "source": [
    "By choosing the above parameters in the BOW function, the BLEU score of the model goes up to 0.089, which is pretty good considering how the BLEU score is structured."
   ]
  },
  {
   "cell_type": "markdown",
   "metadata": {},
   "source": [
    "## TFIDF"
   ]
  },
  {
   "cell_type": "markdown",
   "metadata": {},
   "source": [
    "Given that in the previous model the basic models (i.e. without punctuation and stopword removal) performed better than the other model, I will restrict my attention to them."
   ]
  },
  {
   "cell_type": "code",
   "execution_count": 246,
   "metadata": {},
   "outputs": [],
   "source": [
    "TFIDF_data = apply_TFIDF(data_list)"
   ]
  },
  {
   "cell_type": "code",
   "execution_count": 247,
   "metadata": {},
   "outputs": [],
   "source": [
    "TFIDF_scores = apply_cosine_similarity(TFIDF_data, train_df, dev_df)"
   ]
  },
  {
   "cell_type": "code",
   "execution_count": 248,
   "metadata": {},
   "outputs": [
    {
     "name": "stdout",
     "output_type": "stream",
     "text": [
      "BLEU Score of stemmed        : 0.0809\n",
      "BLEU Score of np_stemmed     : 0.0809\n",
      "BLEU Score of basic          : 0.0808\n",
      "BLEU Score of np_basic       : 0.0808\n",
      "BLEU Score of sw_stemmed     : 0.0808\n",
      "BLEU Score of sw_basic       : 0.0804\n",
      "BLEU Score of lemmatized     : 0.0793\n",
      "BLEU Score of np_lemmatized  : 0.0793\n",
      "BLEU Score of sw_lemmatized  : 0.0790\n"
     ]
    }
   ],
   "source": [
    "for key in dict(sorted(TFIDF_scores.items(), key=lambda x: x[1][1], reverse=True)):\n",
    "    print(f'BLEU Score of {key:<{15}}: {TFIDF_scores[key][1]:.4f}')"
   ]
  },
  {
   "cell_type": "markdown",
   "metadata": {},
   "source": [
    "Contrary to the BOW Model, where the basic model would perform better, in this case the stemmed model performs slightly better."
   ]
  },
  {
   "cell_type": "code",
   "execution_count": 249,
   "metadata": {},
   "outputs": [],
   "source": [
    "n_gram_parameters = [(i, j) for i in range(1, 8) for j in range(i, 8)]\n",
    "analyzer = ['char']\n",
    "binary = [True]\n",
    "smooth = [True]"
   ]
  },
  {
   "cell_type": "code",
   "execution_count": null,
   "metadata": {},
   "outputs": [],
   "source": [
    "results_basic = TFIDF_exhaustive_search(tokenized_train, tokenized_dev, n_gram_parameters, train_df, dev_df)\n",
    "results_stem = TFIDF_exhaustive_search(stemmed_train, stemmed_dev, n_gram_parameters, train_df, dev_df)"
   ]
  },
  {
   "cell_type": "code",
   "execution_count": 251,
   "metadata": {},
   "outputs": [
    {
     "name": "stdout",
     "output_type": "stream",
     "text": [
      "BASIC Optimal n_gram    : (2, 4)\n",
      "BASIC Optimal binary    : True\n",
      "BASIC Optimal smooth    : True\n",
      "BASIC Optimal analyzer  : char\n",
      "BASIC Optimal score     : 0.09111316455243584\n",
      "\n",
      "STEM Optimal n_gram    : (2, 4)\n",
      "STEM Optimal binary    : True\n",
      "STEM Optimal smooth    : True\n",
      "STEM Optimal analyzer  : char\n",
      "STEM Optimal score     : 0.09070840640157646\n"
     ]
    }
   ],
   "source": [
    "for key in results_basic:\n",
    "    print(f'BASIC Optimal {key:<10}: {results_basic[key]}')\n",
    "print('')\n",
    "for key in results_stem:\n",
    "    print(f'STEM Optimal {key:<10}: {results_stem[key]}')"
   ]
  },
  {
   "cell_type": "markdown",
   "metadata": {},
   "source": [
    "By choosing the parameters found above (which are pretty much the same found in the BOW analysis), the score goes up to 0.091."
   ]
  },
  {
   "cell_type": "markdown",
   "metadata": {},
   "source": [
    "## Running on TEST Set"
   ]
  },
  {
   "cell_type": "markdown",
   "metadata": {},
   "source": [
    "Given that the optimal score between train and dev was found using the TFIDF method with the parameters above, I will use them to predict the most similar prompts to the ones in the TEST. "
   ]
  },
  {
   "cell_type": "code",
   "execution_count": null,
   "metadata": {},
   "outputs": [],
   "source": [
    "track1_data = get_track1_predictions(tokenized_train_and_dev, tokenized_test, train_and_dev_df, test_df)"
   ]
  },
  {
   "cell_type": "code",
   "execution_count": 9,
   "metadata": {},
   "outputs": [
    {
     "data": {
      "text/html": [
       "<div>\n",
       "<style scoped>\n",
       "    .dataframe tbody tr th:only-of-type {\n",
       "        vertical-align: middle;\n",
       "    }\n",
       "\n",
       "    .dataframe tbody tr th {\n",
       "        vertical-align: top;\n",
       "    }\n",
       "\n",
       "    .dataframe thead th {\n",
       "        text-align: right;\n",
       "    }\n",
       "</style>\n",
       "<table border=\"1\" class=\"dataframe\">\n",
       "  <thead>\n",
       "    <tr style=\"text-align: right;\">\n",
       "      <th></th>\n",
       "      <th>test_prompt</th>\n",
       "      <th>training_prompt</th>\n",
       "      <th>retrieved_response</th>\n",
       "      <th>conversation_id</th>\n",
       "      <th>response_id</th>\n",
       "    </tr>\n",
       "  </thead>\n",
       "  <tbody>\n",
       "    <tr>\n",
       "      <th>0</th>\n",
       "      <td>Regarding Stable Diffusion models, should I us...</td>\n",
       "      <td>What does stable diffusion mean?</td>\n",
       "      <td>Stable diffusion refers to a process in which ...</td>\n",
       "      <td>0cf125095fa74e129f9b7b6054d2993e</td>\n",
       "      <td>5e74391122d64c459554b0a5cebf7027</td>\n",
       "    </tr>\n",
       "    <tr>\n",
       "      <th>1</th>\n",
       "      <td>I am thinking of a childrens cartoon where the...</td>\n",
       "      <td>Traditionally, in a plot arc, what is the poin...</td>\n",
       "      <td>The point where the main character is at their...</td>\n",
       "      <td>e6296e2a7a554a3db3152704d065498e</td>\n",
       "      <td>0bdbc95062f94eb2a0fbc835ef787321</td>\n",
       "    </tr>\n",
       "    <tr>\n",
       "      <th>2</th>\n",
       "      <td>what's difference between ioremap and devm_ior...</td>\n",
       "      <td>What's difference between you and chatGPT?</td>\n",
       "      <td>I'm a language model trained by researchers fr...</td>\n",
       "      <td>ee22ccf57c064f5f955f1fd2f9ed5e90</td>\n",
       "      <td>c56f17fa58ed4eafa678ae2aac96de5d</td>\n",
       "    </tr>\n",
       "    <tr>\n",
       "      <th>3</th>\n",
       "      <td>Who is a Multiplan direct competitor in US?</td>\n",
       "      <td>what are the best chatgpt competitors?</td>\n",
       "      <td>There are several notable competitors to ChatG...</td>\n",
       "      <td>f5ef6be6d11746e39ec404496c307ab8</td>\n",
       "      <td>ece901472bf84d0cb3b1eeb6b0607b1b</td>\n",
       "    </tr>\n",
       "    <tr>\n",
       "      <th>4</th>\n",
       "      <td>Can you give me ideas for a dnd oneshot?</td>\n",
       "      <td>Give me ideas for a mothers day gift?</td>\n",
       "      <td>Here are a few ideas for Mother's Day gifts:\\n...</td>\n",
       "      <td>1fcea667861046d1834b17e7851dcca4</td>\n",
       "      <td>cad50072d7874e66b7cc223ba1f91fd8</td>\n",
       "    </tr>\n",
       "  </tbody>\n",
       "</table>\n",
       "</div>"
      ],
      "text/plain": [
       "                                         test_prompt  \\\n",
       "0  Regarding Stable Diffusion models, should I us...   \n",
       "1  I am thinking of a childrens cartoon where the...   \n",
       "2  what's difference between ioremap and devm_ior...   \n",
       "3        Who is a Multiplan direct competitor in US?   \n",
       "4           Can you give me ideas for a dnd oneshot?   \n",
       "\n",
       "                                     training_prompt  \\\n",
       "0                   What does stable diffusion mean?   \n",
       "1  Traditionally, in a plot arc, what is the poin...   \n",
       "2         What's difference between you and chatGPT?   \n",
       "3             what are the best chatgpt competitors?   \n",
       "4              Give me ideas for a mothers day gift?   \n",
       "\n",
       "                                  retrieved_response  \\\n",
       "0  Stable diffusion refers to a process in which ...   \n",
       "1  The point where the main character is at their...   \n",
       "2  I'm a language model trained by researchers fr...   \n",
       "3  There are several notable competitors to ChatG...   \n",
       "4  Here are a few ideas for Mother's Day gifts:\\n...   \n",
       "\n",
       "                    conversation_id                       response_id  \n",
       "0  0cf125095fa74e129f9b7b6054d2993e  5e74391122d64c459554b0a5cebf7027  \n",
       "1  e6296e2a7a554a3db3152704d065498e  0bdbc95062f94eb2a0fbc835ef787321  \n",
       "2  ee22ccf57c064f5f955f1fd2f9ed5e90  c56f17fa58ed4eafa678ae2aac96de5d  \n",
       "3  f5ef6be6d11746e39ec404496c307ab8  ece901472bf84d0cb3b1eeb6b0607b1b  \n",
       "4  1fcea667861046d1834b17e7851dcca4  cad50072d7874e66b7cc223ba1f91fd8  "
      ]
     },
     "execution_count": 9,
     "metadata": {},
     "output_type": "execute_result"
    }
   ],
   "source": [
    "track1_data.head()"
   ]
  },
  {
   "cell_type": "code",
   "execution_count": 13,
   "metadata": {},
   "outputs": [],
   "source": [
    "track1_data[['conversation_id', 'response_id']].to_csv('track1.csv', index=False)"
   ]
  },
  {
   "cell_type": "code",
   "execution_count": 14,
   "metadata": {},
   "outputs": [
    {
     "name": "stdout",
     "output_type": "stream",
     "text": [
      "TEST QUESTION: Regarding Stable Diffusion models, should I use fp16 or fp32?\n",
      "RETRIEVED QUESTION: What does stable diffusion mean?\n",
      "RETRIEVED ANSWER: Stable diffusion refers to a process in which a substance or particle spreads out evenly across a medium, such as a gas or liquid, over a long period of time. This process is often used to describe th...\n",
      "\n",
      "TEST QUESTION: I am thinking of a childrens cartoon where the main characters initials are as follows: TS RD PP AJ R F What is the show?\n",
      "RETRIEVED QUESTION: Traditionally, in a plot arc, what is the point where the main character is at their lowest?\n",
      "RETRIEVED ANSWER: The point where the main character is at their lowest in a plot arc is often referred to as the \"low point\" or \"all is lost\" moment. This is the point in the story where it seems like all hope is lost...\n",
      "\n",
      "TEST QUESTION: what's difference between ioremap and devm_ioremap?\n",
      "RETRIEVED QUESTION: What's difference between you and chatGPT?\n",
      "RETRIEVED ANSWER: I'm a language model trained by researchers from Large Model Systems Organization (LMSYS). ChatGPT is a different language model trained by researchers from Stanford University. Both of us use differe...\n",
      "\n"
     ]
    }
   ],
   "source": [
    "for i in range(3):\n",
    "    print(f\"TEST QUESTION: {track1_data[['test_prompt', 'training_prompt', 'retrieved_response']].iloc[i][0]}\")\n",
    "    print(f\"RETRIEVED QUESTION: {track1_data[['test_prompt', 'training_prompt', 'retrieved_response']].iloc[i][1]}\")\n",
    "    print(f\"RETRIEVED ANSWER: {track1_data[['test_prompt', 'training_prompt', 'retrieved_response']].iloc[i][2][:200]}...\")\n",
    "    print()"
   ]
  },
  {
   "cell_type": "markdown",
   "metadata": {},
   "source": [
    "# Static Representation"
   ]
  },
  {
   "cell_type": "markdown",
   "metadata": {},
   "source": [
    "In this section, I will try different Static continuous representation methods, to eventually determine the one which works best."
   ]
  },
  {
   "cell_type": "markdown",
   "metadata": {},
   "source": [
    "## FastText Pretrained Model"
   ]
  },
  {
   "cell_type": "code",
   "execution_count": 276,
   "metadata": {},
   "outputs": [],
   "source": [
    "import fasttext.util"
   ]
  },
  {
   "cell_type": "code",
   "execution_count": 277,
   "metadata": {},
   "outputs": [
    {
     "name": "stderr",
     "output_type": "stream",
     "text": [
      "Warning : `load_model` does not return WordVectorModel or SupervisedModel any more, but a `FastText` object which is very similar.\n"
     ]
    }
   ],
   "source": [
    "ft = fasttext.load_model('extra/cc.en.300.bin')  # THE PATH HAS TO BE SUBTITUTED WITH THE PATH WHERE THE ENGLISH FASTTEXT PRETRAINED MODEL IS STORED"
   ]
  },
  {
   "cell_type": "code",
   "execution_count": 278,
   "metadata": {},
   "outputs": [],
   "source": [
    "fasttext_data = apply_fasttext_model_multiple(ft, data_list)"
   ]
  },
  {
   "cell_type": "code",
   "execution_count": 279,
   "metadata": {},
   "outputs": [],
   "source": [
    "fasttext_scores = apply_cosine_similarity(fasttext_data, train_df, dev_df)"
   ]
  },
  {
   "cell_type": "code",
   "execution_count": 280,
   "metadata": {},
   "outputs": [
    {
     "name": "stdout",
     "output_type": "stream",
     "text": [
      "BLEU Score of sw_basic       : 0.0814\n",
      "BLEU Score of sw_lemmatized  : 0.0802\n",
      "BLEU Score of sw_stemmed     : 0.0791\n",
      "BLEU Score of np_basic       : 0.0723\n",
      "BLEU Score of np_stemmed     : 0.0721\n",
      "BLEU Score of np_lemmatized  : 0.0707\n",
      "BLEU Score of stemmed        : 0.0702\n",
      "BLEU Score of basic          : 0.0700\n",
      "BLEU Score of lemmatized     : 0.0696\n"
     ]
    }
   ],
   "source": [
    "for key in dict(sorted(fasttext_scores.items(), key=lambda x: x[1][1], reverse=True)):\n",
    "    print(f'BLEU Score of {key:<{15}}: {fasttext_scores[key][1]:.4f}')"
   ]
  },
  {
   "cell_type": "markdown",
   "metadata": {},
   "source": [
    "## Word2Vec Pretrained Model"
   ]
  },
  {
   "cell_type": "code",
   "execution_count": 18,
   "metadata": {},
   "outputs": [],
   "source": [
    "model_path = '/Users/alessandroardenghi/gensim-data/word2vec-google-news-300/word2vec-google-news-300.gz' # TO BE SUBSTITUTED WITH THE PATH TO THE DOWNLOADED WORD2VEC MODEL\n",
    "model = KeyedVectors.load_word2vec_format(model_path, binary=True)"
   ]
  },
  {
   "cell_type": "code",
   "execution_count": 282,
   "metadata": {},
   "outputs": [],
   "source": [
    "word2vec_data = apply_word2vec_model_multiple(model, data_list)"
   ]
  },
  {
   "cell_type": "code",
   "execution_count": 283,
   "metadata": {},
   "outputs": [],
   "source": [
    "pretrained_word2vec_scores = apply_cosine_similarity(word2vec_data, train_df, dev_df)"
   ]
  },
  {
   "cell_type": "code",
   "execution_count": 284,
   "metadata": {},
   "outputs": [
    {
     "name": "stdout",
     "output_type": "stream",
     "text": [
      "BLEU Score of np_basic       : 0.0892\n",
      "BLEU Score of basic          : 0.0892\n",
      "BLEU Score of lemmatized     : 0.0875\n",
      "BLEU Score of sw_basic       : 0.0874\n",
      "BLEU Score of np_lemmatized  : 0.0873\n",
      "BLEU Score of sw_lemmatized  : 0.0854\n",
      "BLEU Score of np_stemmed     : 0.0837\n",
      "BLEU Score of stemmed        : 0.0834\n",
      "BLEU Score of sw_stemmed     : 0.0781\n"
     ]
    }
   ],
   "source": [
    "for key in dict(sorted(pretrained_word2vec_scores.items(), key=lambda x: x[1][1], reverse=True)):\n",
    "    print(f'BLEU Score of {key:<{15}}: {pretrained_word2vec_scores[key][1]:.4f}')"
   ]
  },
  {
   "cell_type": "markdown",
   "metadata": {},
   "source": [
    "The best model among the ones I tried is the pretrained Word2Vec model, and therefore I will use it to perform the prediction on the test set."
   ]
  },
  {
   "cell_type": "markdown",
   "metadata": {},
   "source": [
    "## Prediction on TEST set"
   ]
  },
  {
   "cell_type": "markdown",
   "metadata": {},
   "source": [
    "### Running on TEST Set"
   ]
  },
  {
   "cell_type": "code",
   "execution_count": 19,
   "metadata": {},
   "outputs": [],
   "source": [
    "track2_data = get_track2_predictions(model, tokenized_train_and_dev, tokenized_test, train_and_dev_df, test_df)"
   ]
  },
  {
   "cell_type": "code",
   "execution_count": 21,
   "metadata": {},
   "outputs": [
    {
     "data": {
      "text/html": [
       "<div>\n",
       "<style scoped>\n",
       "    .dataframe tbody tr th:only-of-type {\n",
       "        vertical-align: middle;\n",
       "    }\n",
       "\n",
       "    .dataframe tbody tr th {\n",
       "        vertical-align: top;\n",
       "    }\n",
       "\n",
       "    .dataframe thead th {\n",
       "        text-align: right;\n",
       "    }\n",
       "</style>\n",
       "<table border=\"1\" class=\"dataframe\">\n",
       "  <thead>\n",
       "    <tr style=\"text-align: right;\">\n",
       "      <th></th>\n",
       "      <th>test_prompt</th>\n",
       "      <th>training_prompt</th>\n",
       "      <th>retrieved_response</th>\n",
       "      <th>conversation_id</th>\n",
       "      <th>response_id</th>\n",
       "    </tr>\n",
       "  </thead>\n",
       "  <tbody>\n",
       "    <tr>\n",
       "      <th>0</th>\n",
       "      <td>Regarding Stable Diffusion models, should I us...</td>\n",
       "      <td>How do I use diffusion model implemented by Te...</td>\n",
       "      <td>TensorFlow provides a high-level API for train...</td>\n",
       "      <td>0cf125095fa74e129f9b7b6054d2993e</td>\n",
       "      <td>58c4df897ad840c2abd459e31f814c01</td>\n",
       "    </tr>\n",
       "    <tr>\n",
       "      <th>1</th>\n",
       "      <td>I am thinking of a childrens cartoon where the...</td>\n",
       "      <td>.hi.! i calculated mann-whitney W as 47.do you...</td>\n",
       "      <td>Yes, in R you can use the `pwcorr()` function ...</td>\n",
       "      <td>e6296e2a7a554a3db3152704d065498e</td>\n",
       "      <td>e4dd44b9934e4b3592abef0254496080</td>\n",
       "    </tr>\n",
       "    <tr>\n",
       "      <th>2</th>\n",
       "      <td>what's difference between ioremap and devm_ior...</td>\n",
       "      <td>What's the difference between Kennzeichnungspf...</td>\n",
       "      <td>Kennzeichnungspflicht and Mitteilungspflicht a...</td>\n",
       "      <td>ee22ccf57c064f5f955f1fd2f9ed5e90</td>\n",
       "      <td>2ffe05c573d24ac9b634a5511e71285e</td>\n",
       "    </tr>\n",
       "    <tr>\n",
       "      <th>3</th>\n",
       "      <td>Who is a Multiplan direct competitor in US?</td>\n",
       "      <td>What is your position in a race if you pass th...</td>\n",
       "      <td>If you pass the person who is in second place,...</td>\n",
       "      <td>f5ef6be6d11746e39ec404496c307ab8</td>\n",
       "      <td>8a09f42a72c0419e97c0b65851d421f0</td>\n",
       "    </tr>\n",
       "    <tr>\n",
       "      <th>4</th>\n",
       "      <td>Can you give me ideas for a dnd oneshot?</td>\n",
       "      <td>can you gave me a game idea for roblox?</td>\n",
       "      <td>Sure! Here's a game idea for Roblox:\\n\\nTitle:...</td>\n",
       "      <td>1fcea667861046d1834b17e7851dcca4</td>\n",
       "      <td>4aadfb4fba2b44b8b46bac51ba1b5a70</td>\n",
       "    </tr>\n",
       "  </tbody>\n",
       "</table>\n",
       "</div>"
      ],
      "text/plain": [
       "                                         test_prompt  \\\n",
       "0  Regarding Stable Diffusion models, should I us...   \n",
       "1  I am thinking of a childrens cartoon where the...   \n",
       "2  what's difference between ioremap and devm_ior...   \n",
       "3        Who is a Multiplan direct competitor in US?   \n",
       "4           Can you give me ideas for a dnd oneshot?   \n",
       "\n",
       "                                     training_prompt  \\\n",
       "0  How do I use diffusion model implemented by Te...   \n",
       "1  .hi.! i calculated mann-whitney W as 47.do you...   \n",
       "2  What's the difference between Kennzeichnungspf...   \n",
       "3  What is your position in a race if you pass th...   \n",
       "4            can you gave me a game idea for roblox?   \n",
       "\n",
       "                                  retrieved_response  \\\n",
       "0  TensorFlow provides a high-level API for train...   \n",
       "1  Yes, in R you can use the `pwcorr()` function ...   \n",
       "2  Kennzeichnungspflicht and Mitteilungspflicht a...   \n",
       "3  If you pass the person who is in second place,...   \n",
       "4  Sure! Here's a game idea for Roblox:\\n\\nTitle:...   \n",
       "\n",
       "                    conversation_id                       response_id  \n",
       "0  0cf125095fa74e129f9b7b6054d2993e  58c4df897ad840c2abd459e31f814c01  \n",
       "1  e6296e2a7a554a3db3152704d065498e  e4dd44b9934e4b3592abef0254496080  \n",
       "2  ee22ccf57c064f5f955f1fd2f9ed5e90  2ffe05c573d24ac9b634a5511e71285e  \n",
       "3  f5ef6be6d11746e39ec404496c307ab8  8a09f42a72c0419e97c0b65851d421f0  \n",
       "4  1fcea667861046d1834b17e7851dcca4  4aadfb4fba2b44b8b46bac51ba1b5a70  "
      ]
     },
     "execution_count": 21,
     "metadata": {},
     "output_type": "execute_result"
    }
   ],
   "source": [
    "track2_data.head()"
   ]
  },
  {
   "cell_type": "code",
   "execution_count": 22,
   "metadata": {},
   "outputs": [
    {
     "name": "stdout",
     "output_type": "stream",
     "text": [
      "TEST QUESTION: Regarding Stable Diffusion models, should I use fp16 or fp32?\n",
      "RETRIEVED QUESTION: How do I use diffusion model implemented by TensorFlow?\n",
      "RETRIEVED ANSWER: TensorFlow provides a high-level API for training and using diffusion models. Here are the basic steps to get started:\n",
      "\n",
      "1. Import the required modules and classes:\n",
      "```python\n",
      "import tensorflow as tf\n",
      "fr...\n",
      "\n",
      "TEST QUESTION: I am thinking of a childrens cartoon where the main characters initials are as follows: TS RD PP AJ R F What is the show?\n",
      "RETRIEVED QUESTION: .hi.! i calculated mann-whitney W as 47.do you know how to get the corresponding p-value in R language.?\n",
      "RETRIEVED ANSWER: Yes, in R you can use the `pwcorr()` function from the `pwcorr` package to calculate the Mann-Whitney U statistic and the associated p-value.\n",
      "\n",
      "Here's an example of how you can use it:\n",
      "```\n",
      "# install th...\n",
      "\n",
      "TEST QUESTION: what's difference between ioremap and devm_ioremap?\n",
      "RETRIEVED QUESTION: What's the difference between Kennzeichnungspflicht and Mitteilungspflicht?\n",
      "RETRIEVED ANSWER: Kennzeichnungspflicht and Mitteilungspflicht are two concepts in German data protection law that refer to different obligations regarding the processing of personal data.\n",
      "\n",
      "Kennzeichnungspflicht means ...\n",
      "\n"
     ]
    }
   ],
   "source": [
    "for i in range(3):\n",
    "    print(f\"TEST QUESTION: {track2_data[['test_prompt', 'training_prompt', 'retrieved_response']].iloc[i][0]}\")\n",
    "    print(f\"RETRIEVED QUESTION: {track2_data[['test_prompt', 'training_prompt', 'retrieved_response']].iloc[i][1]}\")\n",
    "    print(f\"RETRIEVED ANSWER: {track2_data[['test_prompt', 'training_prompt', 'retrieved_response']].iloc[i][2][:200]}...\")\n",
    "    print()"
   ]
  },
  {
   "cell_type": "code",
   "execution_count": null,
   "metadata": {},
   "outputs": [],
   "source": [
    "track2_data[['conversation_id', 'response_id']].to_csv('track2.csv', index=False)"
   ]
  },
  {
   "cell_type": "markdown",
   "metadata": {},
   "source": [
    "# Advanced Methods"
   ]
  },
  {
   "cell_type": "markdown",
   "metadata": {},
   "source": [
    "In this section, I try out some more advanced sentence embedding methods, namely Sentence Transformers. Of course, I will not attempt to train one myself, but rather I will use some pretrained models. Given the long time it takes to some of these models to generate the sentence embeddings, I have carried out all the embedding generation and saved it in a directory called sentence_tranformer_data. <br>\n",
    "I will however leave the code I used to obtain the embeddings and all the models that I used in a commented block, so that my results can be replicated.\n",
    "The models I tried are:\n",
    "- all-MiniLM-L6-v2\n",
    "- multi-qa-mpnet-base-dot-v1\n",
    "- all-mpnet-base-v2\n",
    "- gte-small"
   ]
  },
  {
   "cell_type": "code",
   "execution_count": 1,
   "metadata": {},
   "outputs": [],
   "source": [
    "#from sentence_transformers import SentenceTransformer\n",
    "# import tqdm\n",
    "\n",
    "# model1 = SentenceTransformer(\"sentence-transformers/all-MiniLM-L6-v2\")\n",
    "# model2 = SentenceTransformer('sentence-transformers/all-mpnet-base-v2')\n",
    "# model3 = SentenceTransformer('sentence-transformers/multi-qa-mpnet-base-dot-v1')\n",
    "# model4 = SentenceTransformer('thenlper/gte-small')\n",
    "\n",
    "\n",
    "#encoded_queries = []\n",
    "\n",
    "#for user_prompt in tqdm.tqdm(train_df['user_prompt'].values, desc=\"Encoding queries\", total=len(train_df)):\n",
    "#    encoded_query = model.encode(user_prompt)  \n",
    "#    encoded_queries.append(encoded_query)  \n",
    "\n",
    "#encoded_queries = np.array(encoded_queries)\n",
    "#file_path = ''\n",
    "\n",
    "#np.save(file_path, encoded_queries)\n",
    "\n",
    "#print(f\"Encoded queries saved to '{file_path}'\")"
   ]
  },
  {
   "cell_type": "code",
   "execution_count": 10,
   "metadata": {},
   "outputs": [],
   "source": [
    "sentence_embeddings = {'all-MiniLM-L6-v2': [np.load('sentence_transformer_data/allMini_train_queries.npy'), \n",
    "                                            np.load('sentence_transformer_data/allMini_dev_queries.npy')],\n",
    "                       'multi-qa-mpnet-base-dot-v1': [np.load('sentence_transformer_data/multiqa_train_queries.npy'), \n",
    "                                                      np.load('sentence_transformer_data/multiqa_dev_queries.npy')],\n",
    "                       'all-mpnet-base-v2': [np.load('sentence_transformer_data/mpnet_train_queries.npy'),\n",
    "                                             np.load('sentence_transformer_data/mpnet_dev_queries.npy')],\n",
    "                       'gte-small': [np.load('sentence_transformer_data/gte_train_queries.npy'),\n",
    "                                     np.load('sentence_transformer_data/gte_dev_queries.npy')]   \n",
    "}"
   ]
  },
  {
   "cell_type": "code",
   "execution_count": 89,
   "metadata": {},
   "outputs": [],
   "source": [
    "scores = apply_cosine_similarity(sentence_embeddings, train_df, dev_df)"
   ]
  },
  {
   "cell_type": "code",
   "execution_count": 10,
   "metadata": {},
   "outputs": [
    {
     "name": "stdout",
     "output_type": "stream",
     "text": [
      "BLEU Score of all-mpnet-base-v2             : 0.1079\n",
      "BLEU Score of multi-qa-mpnet-base-dot-v1    : 0.1035\n",
      "BLEU Score of all-MiniLM-L6-v2              : 0.1024\n",
      "BLEU Score of gte-small                     : 0.1002\n"
     ]
    }
   ],
   "source": [
    "for key in dict(sorted(scores.items(), key=lambda x: x[1][1], reverse=True)):\n",
    "    print(f'BLEU Score of {key:<{30}}: {scores[key][1]:.4f}')"
   ]
  },
  {
   "cell_type": "markdown",
   "metadata": {},
   "source": [
    "I will therefore use the all-mpnet-base-v2 model to perform the prediction on the test set. In the following cells I will get the sentence embeddings of the train_and_dev_df and the test_df, I will save them and then use them to perform the predictions."
   ]
  },
  {
   "cell_type": "code",
   "execution_count": 12,
   "metadata": {},
   "outputs": [
    {
     "name": "stderr",
     "output_type": "stream",
     "text": [
      "Encoding test queries: 100%|██████████| 5000/5000 [24:31<00:00,  3.40it/s]"
     ]
    },
    {
     "name": "stdout",
     "output_type": "stream",
     "text": [
      "Encoded queries saved to 'sentence_transformer_data/FINAL_test_queries.npy'\n"
     ]
    },
    {
     "name": "stderr",
     "output_type": "stream",
     "text": [
      "\n"
     ]
    }
   ],
   "source": [
    "encoded_queries = []\n",
    "model = SentenceTransformer('sentence-transformers/all-mpnet-base-v2')\n",
    "\n",
    "for user_prompt in tqdm.tqdm(test_df['user_prompt'].values, desc=\"Encoding test queries\", total=len(test_df)):\n",
    "    encoded_query = model.encode(user_prompt)  \n",
    "    encoded_queries.append(encoded_query)  \n",
    "\n",
    "encoded_queries = np.array(encoded_queries)\n",
    "file_path = 'sentence_transformer_data/FINAL_test_queries.npy'\n",
    "\n",
    "np.save(file_path, encoded_queries)\n",
    "\n",
    "print(f\"Encoded queries saved to '{file_path}'\")"
   ]
  },
  {
   "cell_type": "code",
   "execution_count": 23,
   "metadata": {},
   "outputs": [],
   "source": [
    "train_embeddings = np.load('sentence_transformer_data/multiqa_train_queries.npy')\n",
    "dev_embeddings = np.load('sentence_transformer_data/multiqa_dev_queries.npy')\n",
    "dev_embeddings = np.delete(dev_embeddings, dev_nan_indices, axis=0) # Removing from the dev_embeddings array the rows with NAN entries\n",
    "test_embeddings = np.load('sentence_transformer_data/FINAL_test_queries.npy')\n",
    "\n",
    "train_and_dev_embeddings = np.vstack((train_embeddings, dev_embeddings))"
   ]
  },
  {
   "cell_type": "code",
   "execution_count": 24,
   "metadata": {},
   "outputs": [],
   "source": [
    "track3_data = get_track3_predictions(train_and_dev_embeddings, test_embeddings, train_and_dev_df, test_df)"
   ]
  },
  {
   "cell_type": "code",
   "execution_count": 25,
   "metadata": {},
   "outputs": [
    {
     "data": {
      "text/html": [
       "<div>\n",
       "<style scoped>\n",
       "    .dataframe tbody tr th:only-of-type {\n",
       "        vertical-align: middle;\n",
       "    }\n",
       "\n",
       "    .dataframe tbody tr th {\n",
       "        vertical-align: top;\n",
       "    }\n",
       "\n",
       "    .dataframe thead th {\n",
       "        text-align: right;\n",
       "    }\n",
       "</style>\n",
       "<table border=\"1\" class=\"dataframe\">\n",
       "  <thead>\n",
       "    <tr style=\"text-align: right;\">\n",
       "      <th></th>\n",
       "      <th>test_prompt</th>\n",
       "      <th>training_prompt</th>\n",
       "      <th>retrieved_response</th>\n",
       "      <th>conversation_id</th>\n",
       "      <th>response_id</th>\n",
       "    </tr>\n",
       "  </thead>\n",
       "  <tbody>\n",
       "    <tr>\n",
       "      <th>0</th>\n",
       "      <td>Regarding Stable Diffusion models, should I us...</td>\n",
       "      <td>What’s the best laptop for stable diffusion?</td>\n",
       "      <td>The best laptop for stable diffusion would dep...</td>\n",
       "      <td>0cf125095fa74e129f9b7b6054d2993e</td>\n",
       "      <td>84b2731d868641318191ef9598dc9c57</td>\n",
       "    </tr>\n",
       "    <tr>\n",
       "      <th>1</th>\n",
       "      <td>I am thinking of a childrens cartoon where the...</td>\n",
       "      <td>Do you know that game when each letters is rep...</td>\n",
       "      <td>Yes, I'm familiar with that type of game! It's...</td>\n",
       "      <td>e6296e2a7a554a3db3152704d065498e</td>\n",
       "      <td>6b4fac11954941f8b3f3f434878e639c</td>\n",
       "    </tr>\n",
       "    <tr>\n",
       "      <th>2</th>\n",
       "      <td>what's difference between ioremap and devm_ior...</td>\n",
       "      <td>What is the difference between %i and %d in st...</td>\n",
       "      <td>In Python's string formatting using the `%` op...</td>\n",
       "      <td>ee22ccf57c064f5f955f1fd2f9ed5e90</td>\n",
       "      <td>98b8fee9722a403986efc8bf97014ecb</td>\n",
       "    </tr>\n",
       "    <tr>\n",
       "      <th>3</th>\n",
       "      <td>Who is a Multiplan direct competitor in US?</td>\n",
       "      <td>what are the top 3 life insurance companies in...</td>\n",
       "      <td>It is difficult to determine the top life insu...</td>\n",
       "      <td>f5ef6be6d11746e39ec404496c307ab8</td>\n",
       "      <td>852dc1bd8e9841bb8b0d388d08d58cb7</td>\n",
       "    </tr>\n",
       "    <tr>\n",
       "      <th>4</th>\n",
       "      <td>Can you give me ideas for a dnd oneshot?</td>\n",
       "      <td>Can you give me some creative ideas for a birt...</td>\n",
       "      <td>Here are a few ideas for a birthday present fo...</td>\n",
       "      <td>1fcea667861046d1834b17e7851dcca4</td>\n",
       "      <td>0b6cd1a34e1c41e6895367461b36fa9f</td>\n",
       "    </tr>\n",
       "  </tbody>\n",
       "</table>\n",
       "</div>"
      ],
      "text/plain": [
       "                                         test_prompt  \\\n",
       "0  Regarding Stable Diffusion models, should I us...   \n",
       "1  I am thinking of a childrens cartoon where the...   \n",
       "2  what's difference between ioremap and devm_ior...   \n",
       "3        Who is a Multiplan direct competitor in US?   \n",
       "4           Can you give me ideas for a dnd oneshot?   \n",
       "\n",
       "                                     training_prompt  \\\n",
       "0       What’s the best laptop for stable diffusion?   \n",
       "1  Do you know that game when each letters is rep...   \n",
       "2  What is the difference between %i and %d in st...   \n",
       "3  what are the top 3 life insurance companies in...   \n",
       "4  Can you give me some creative ideas for a birt...   \n",
       "\n",
       "                                  retrieved_response  \\\n",
       "0  The best laptop for stable diffusion would dep...   \n",
       "1  Yes, I'm familiar with that type of game! It's...   \n",
       "2  In Python's string formatting using the `%` op...   \n",
       "3  It is difficult to determine the top life insu...   \n",
       "4  Here are a few ideas for a birthday present fo...   \n",
       "\n",
       "                    conversation_id                       response_id  \n",
       "0  0cf125095fa74e129f9b7b6054d2993e  84b2731d868641318191ef9598dc9c57  \n",
       "1  e6296e2a7a554a3db3152704d065498e  6b4fac11954941f8b3f3f434878e639c  \n",
       "2  ee22ccf57c064f5f955f1fd2f9ed5e90  98b8fee9722a403986efc8bf97014ecb  \n",
       "3  f5ef6be6d11746e39ec404496c307ab8  852dc1bd8e9841bb8b0d388d08d58cb7  \n",
       "4  1fcea667861046d1834b17e7851dcca4  0b6cd1a34e1c41e6895367461b36fa9f  "
      ]
     },
     "execution_count": 25,
     "metadata": {},
     "output_type": "execute_result"
    }
   ],
   "source": [
    "track3_data.head()"
   ]
  },
  {
   "cell_type": "code",
   "execution_count": 26,
   "metadata": {},
   "outputs": [
    {
     "name": "stdout",
     "output_type": "stream",
     "text": [
      "TEST QUESTION: Regarding Stable Diffusion models, should I use fp16 or fp32?\n",
      "RETRIEVED QUESTION: What’s the best laptop for stable diffusion?\n",
      "RETRIEVED ANSWER: The best laptop for stable diffusion would depend on your specific needs and budget. However, here are a few factors to consider when choosing a laptop for diffusion:\n",
      "\n",
      "1. Processor: A powerful process...\n",
      "\n",
      "TEST QUESTION: I am thinking of a childrens cartoon where the main characters initials are as follows: TS RD PP AJ R F What is the show?\n",
      "RETRIEVED QUESTION: Do you know that game when each letters is replaced by another and you need to decrypt ?\n",
      "RETRIEVED ANSWER: Yes, I'm familiar with that type of game! It's called a \"substitution cipher,\" and it's a classic example of a cryptographic technique that has been used throughout history to hide the meaning of a me...\n",
      "\n",
      "TEST QUESTION: what's difference between ioremap and devm_ioremap?\n",
      "RETRIEVED QUESTION: What is the difference between %i and %d in string formatting?\n",
      "RETRIEVED ANSWER: In Python's string formatting using the `%` operator, `%i` and `%d` are used to format integers and signed integers (also known as \"signed integers\"), respectively.\n",
      "\n",
      "The difference between `%i` and `%...\n",
      "\n"
     ]
    }
   ],
   "source": [
    "for i in range(3):\n",
    "    print(f\"TEST QUESTION: {track3_data[['test_prompt', 'training_prompt', 'retrieved_response']].iloc[i][0]}\")\n",
    "    print(f\"RETRIEVED QUESTION: {track3_data[['test_prompt', 'training_prompt', 'retrieved_response']].iloc[i][1]}\")\n",
    "    print(f\"RETRIEVED ANSWER: {track3_data[['test_prompt', 'training_prompt', 'retrieved_response']].iloc[i][2][:200]}...\")\n",
    "    print()"
   ]
  },
  {
   "cell_type": "code",
   "execution_count": 26,
   "metadata": {},
   "outputs": [],
   "source": [
    "track3_data[['conversation_id', 'response_id']].to_csv('track3.csv', index=False)"
   ]
  }
 ],
 "metadata": {
  "kernelspec": {
   "display_name": "Python 3",
   "language": "python",
   "name": "python3"
  },
  "language_info": {
   "codemirror_mode": {
    "name": "ipython",
    "version": 3
   },
   "file_extension": ".py",
   "mimetype": "text/x-python",
   "name": "python",
   "nbconvert_exporter": "python",
   "pygments_lexer": "ipython3",
   "version": "3.10.9"
  }
 },
 "nbformat": 4,
 "nbformat_minor": 2
}
